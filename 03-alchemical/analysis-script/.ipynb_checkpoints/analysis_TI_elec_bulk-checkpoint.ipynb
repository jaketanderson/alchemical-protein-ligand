{
 "cells": [
  {
   "cell_type": "code",
   "execution_count": 1,
   "id": "c21675f5",
   "metadata": {
    "execution": {
     "iopub.execute_input": "2022-10-13T21:01:50.605695Z",
     "iopub.status.busy": "2022-10-13T21:01:50.605527Z",
     "iopub.status.idle": "2022-10-13T21:01:52.182316Z",
     "shell.execute_reply": "2022-10-13T21:01:52.181721Z"
    }
   },
   "outputs": [
    {
     "name": "stderr",
     "output_type": "stream",
     "text": [
      "<frozen importlib._bootstrap>:219: RuntimeWarning: scipy._lib.messagestream.MessageStream size changed, may indicate binary incompatibility. Expected 56 from C header, got 64 from PyObject\n",
      "Warning on use of the timeseries module: If the inherent timescales of the system are long compared to those being analyzed, this statistical inefficiency may be an underestimate.  The estimate presumes the use of many statistically independent samples.  Tests should be performed to assess whether this condition is satisfied.   Be cautious in the interpretation of the data.\n",
      "Warning: importing 'simtk.openmm' is deprecated.  Import 'openmm' instead.\n"
     ]
    }
   ],
   "source": [
    "import json\n",
    "import matplotlib.pyplot as plt\n",
    "import numpy as np\n",
    "import openmm.unit as unit\n",
    "import scipy as sc\n",
    "from MDAnalysis import Universe\n",
    "from openmmtools.alchemy import (\n",
    "    AbsoluteAlchemicalFactory,\n",
    "    AlchemicalRegion,\n",
    "    AlchemicalState,\n",
    ")\n",
    "from simtk.openmm import LangevinIntegrator, Platform, Vec3, XmlSerializer\n",
    "from simtk.openmm.app import PDBFile, Simulation\n",
    "from tqdm.notebook import tqdm\n",
    "\n",
    "from paprika.analysis import get_block_sem, get_nearest_max, integrate_bootstraps\n",
    "from paprika.io import PaprikaEncoder"
   ]
  },
  {
   "cell_type": "markdown",
   "id": "1fba7fc1",
   "metadata": {},
   "source": [
    "# Initialize"
   ]
  },
  {
   "cell_type": "code",
   "execution_count": 2,
   "id": "9576dbbf",
   "metadata": {
    "execution": {
     "iopub.execute_input": "2022-10-13T21:01:52.184470Z",
     "iopub.status.busy": "2022-10-13T21:01:52.184278Z",
     "iopub.status.idle": "2022-10-13T21:01:52.258682Z",
     "shell.execute_reply": "2022-10-13T21:01:52.258292Z"
    }
   },
   "outputs": [],
   "source": [
    "# device_ID = \"1\"\n",
    "ligand_resname = \"LIG\"\n",
    "base_folder = \"../electrostatics-bulk\"\n",
    "boot_cycles = 1000\n",
    "d_lambda = 0.001\n",
    "lambda_values = np.linspace(0, 1, 11)[::-1]\n",
    "fractions = [0.1, 0.2, 0.3, 0.4, 0.5, 0.6, 0.7, 0.8, 0.9, 1.0]\n",
    "\n",
    "universe = Universe(\n",
    "    f\"{base_folder}/ligand.pdb\",\n",
    "    f\"{base_folder}/production-1.dcd\",\n",
    "    in_memory=True,\n",
    ")\n",
    "n_frames = universe.trajectory.n_frames\n",
    "Temp = 298.15 * unit.kelvin\n",
    "RT = unit.AVOGADRO_CONSTANT_NA * unit.BOLTZMANN_CONSTANT_kB * Temp\n",
    "dt = 2.0 * unit.picosecond\n",
    "n_lambda = len(lambda_values)\n",
    "derivative = np.zeros((n_lambda, n_frames))"
   ]
  },
  {
   "cell_type": "code",
   "execution_count": 3,
   "id": "ac1d7944",
   "metadata": {
    "execution": {
     "iopub.execute_input": "2022-10-13T21:01:52.260500Z",
     "iopub.status.busy": "2022-10-13T21:01:52.260355Z",
     "iopub.status.idle": "2022-10-13T21:01:52.378765Z",
     "shell.execute_reply": "2022-10-13T21:01:52.378333Z"
    }
   },
   "outputs": [],
   "source": [
    "# Load XML and PDB file\n",
    "with open(f\"{base_folder}/ligand.xml\", \"r\") as f:\n",
    "    system = XmlSerializer.deserialize(f.read())\n",
    "coords = PDBFile(f\"{base_folder}/ligand.pdb\")\n",
    "\n",
    "# Alchemical stuff\n",
    "alchemical_atoms = [\n",
    "    atom.index\n",
    "    for atom in coords.topology.atoms()\n",
    "    if atom.residue.name == ligand_resname\n",
    "]\n",
    "alchemical_factory = AbsoluteAlchemicalFactory(\n",
    "    consistent_exceptions=False,\n",
    "    alchemical_pme_treatment=\"exact\",\n",
    "    disable_alchemical_dispersion_correction=False,\n",
    ")\n",
    "alchemical_region = AlchemicalRegion(\n",
    "    alchemical_atoms=alchemical_atoms,\n",
    "    annihilate_electrostatics=True,\n",
    "    annihilate_sterics=False,\n",
    ")\n",
    "system = alchemical_factory.create_alchemical_system(system, alchemical_region)\n",
    "alchemical_state = AlchemicalState.from_system(system)\n",
    "\n",
    "integrator = LangevinIntegrator(Temp, 1.0 / unit.picoseconds, dt)\n",
    "\n",
    "# Create Simulation Object\n",
    "simulation = Simulation(\n",
    "    coords.topology,\n",
    "    system,\n",
    "    integrator,\n",
    "    Platform.getPlatformByName(\"CUDA\"),\n",
    "#     {\"CudaDeviceIndex\": device_ID, \"CudaPrecision\": \"mixed\"},\n",
    "     {\"CudaPrecision\": \"mixed\"},\n",
    ")"
   ]
  },
  {
   "cell_type": "markdown",
   "id": "feee61d4",
   "metadata": {},
   "source": [
    "# Calculate derivative"
   ]
  },
  {
   "cell_type": "code",
   "execution_count": 4,
   "id": "f1a7a1a7",
   "metadata": {
    "execution": {
     "iopub.execute_input": "2022-10-13T21:01:52.380811Z",
     "iopub.status.busy": "2022-10-13T21:01:52.380643Z",
     "iopub.status.idle": "2022-10-13T21:02:15.729328Z",
     "shell.execute_reply": "2022-10-13T21:02:15.728907Z"
    }
   },
   "outputs": [
    {
     "data": {
      "application/vnd.jupyter.widget-view+json": {
       "model_id": "60fe539c179e452a8e7828b68c9e1922",
       "version_major": 2,
       "version_minor": 0
      },
      "text/plain": [
       "  0%|          | 0/11 [00:00<?, ?it/s]"
      ]
     },
     "metadata": {},
     "output_type": "display_data"
    }
   ],
   "source": [
    "# Calculate reduced potential\n",
    "for k in tqdm(range(n_lambda)):\n",
    "    universe = Universe(\n",
    "        f\"{base_folder}/ligand.pdb\",\n",
    "        f\"{base_folder}/production-{k+1}.dcd\",\n",
    "        in_memory=True,\n",
    "    )\n",
    "    sel = universe.select_atoms(\"all\")\n",
    "\n",
    "    # Reweighted lambda values\n",
    "    if lambda_values[k] == 0.0:\n",
    "        # Forward difference\n",
    "        lb1 = lambda_values[k]\n",
    "        lb2 = lambda_values[k] + d_lambda\n",
    "        dd_lambda = d_lambda\n",
    "    elif lambda_values[k] == 1.0:\n",
    "        # Reverse difference\n",
    "        lb1 = lambda_values[k] - d_lambda\n",
    "        lb2 = lambda_values[k]\n",
    "        dd_lambda = d_lambda\n",
    "    else:\n",
    "        # Central difference\n",
    "        lb1 = lambda_values[k] - d_lambda\n",
    "        lb2 = lambda_values[k] + d_lambda\n",
    "        dd_lambda = 2.0 * d_lambda\n",
    "\n",
    "    for n, ts in enumerate(universe.trajectory):\n",
    "        simulation.context.setPositions(sel.positions * unit.angstrom)\n",
    "\n",
    "        # Get Energies\n",
    "        simulation.context.setParameter(\"lambda_electrostatics\", lb1)\n",
    "        dU_1 = simulation.context.getState(getEnergy=True).getPotentialEnergy()\n",
    "        simulation.context.setParameter(\"lambda_electrostatics\", lb2)\n",
    "        dU_2 = simulation.context.getState(getEnergy=True).getPotentialEnergy()\n",
    "\n",
    "        # Calculate Derivative\n",
    "        derivative[k, n] = (dU_2 - dU_1).value_in_unit(\n",
    "            unit.kilocalorie_per_mole\n",
    "        ) / dd_lambda\n",
    "\n",
    "    del universe\n",
    "    del sel\n",
    "\n",
    "np.save(f\"{base_folder}/derivative_TI_elec.npy\", derivative)"
   ]
  },
  {
   "cell_type": "code",
   "execution_count": 5,
   "id": "9f24ce23",
   "metadata": {
    "execution": {
     "iopub.execute_input": "2022-10-13T21:02:15.731147Z",
     "iopub.status.busy": "2022-10-13T21:02:15.730990Z",
     "iopub.status.idle": "2022-10-13T21:02:15.844915Z",
     "shell.execute_reply": "2022-10-13T21:02:15.844536Z"
    }
   },
   "outputs": [
    {
     "data": {
      "text/plain": [
       "Text(0, 0.5, 'dU/dlambda (kcal/mol)')"
      ]
     },
     "execution_count": 5,
     "metadata": {},
     "output_type": "execute_result"
    },
    {
     "data": {
      "image/png": "[encoded data removed]",
      "text/plain": [
       "<Figure size 600x400 with 1 Axes>"
      ]
     },
     "metadata": {
      "needs_background": "light"
     },
     "output_type": "display_data"
    }
   ],
   "source": [
    "plt.figure(dpi=100)\n",
    "for i in range(len(lambda_values)):\n",
    "    plt.plot(derivative[i, :])\n",
    "\n",
    "plt.xlabel(\"Frames\")\n",
    "plt.ylabel(\"dU/dlambda (kcal/mol)\")"
   ]
  },
  {
   "cell_type": "markdown",
   "id": "610c173c",
   "metadata": {},
   "source": [
    "# Calculate FE profile"
   ]
  },
  {
   "cell_type": "code",
   "execution_count": 6,
   "id": "f2e20acf",
   "metadata": {
    "execution": {
     "iopub.execute_input": "2022-10-13T21:02:15.846940Z",
     "iopub.status.busy": "2022-10-13T21:02:15.846768Z",
     "iopub.status.idle": "2022-10-13T21:02:15.850240Z",
     "shell.execute_reply": "2022-10-13T21:02:15.849895Z"
    }
   },
   "outputs": [],
   "source": [
    "dl_intp = np.zeros([0], np.float64)\n",
    "for k in range(n_lambda):\n",
    "    if k > 0:\n",
    "        dl_intp = np.append(\n",
    "            dl_intp,\n",
    "            np.linspace(\n",
    "                lambda_values[k - 1], lambda_values[k], num=100, endpoint=False\n",
    "            ),\n",
    "        )\n",
    "dl_intp = np.append(dl_intp, lambda_values[-1])"
   ]
  },
  {
   "cell_type": "code",
   "execution_count": 7,
   "id": "a201e51d",
   "metadata": {
    "execution": {
     "iopub.execute_input": "2022-10-13T21:02:15.851881Z",
     "iopub.status.busy": "2022-10-13T21:02:15.851713Z",
     "iopub.status.idle": "2022-10-13T21:02:20.340410Z",
     "shell.execute_reply": "2022-10-13T21:02:20.339983Z"
    }
   },
   "outputs": [
    {
     "data": {
      "application/vnd.jupyter.widget-view+json": {
       "model_id": "2beb7662e89d43069fbf40cc858904c2",
       "version_major": 2,
       "version_minor": 0
      },
      "text/plain": [
       "  0%|          | 0/10 [00:00<?, ?it/s]"
      ]
     },
     "metadata": {},
     "output_type": "display_data"
    }
   ],
   "source": [
    "results = {\n",
    "    \"fraction_n_frames\": {},\n",
    "    \"fraction_fe_matrix\": {},\n",
    "    \"fraction_sem_matrix\": {},\n",
    "    \"fraction_fe\": {},\n",
    "    \"fraction_sem\": {},\n",
    "    \"n_frames\": None,\n",
    "    \"fe\": None,\n",
    "    \"sem\": None,\n",
    "    \"fe_matrix\": None,\n",
    "    \"sem_matrix\": None,\n",
    "}\n",
    "\n",
    "for fraction in tqdm(fractions):\n",
    "    dU_avgs = np.mean(derivative[:, 0 : int(fraction * n_frames)], axis=-1)\n",
    "    dU_sems = np.zeros(n_lambda)\n",
    "\n",
    "    nearest_max = get_nearest_max(int(fraction * n_frames))\n",
    "    for k in range(n_lambda):\n",
    "        dU_sems[k] = get_block_sem(derivative[k, 0:nearest_max])\n",
    "\n",
    "    dU_samples = np.random.normal(dU_avgs, dU_sems, size=(boot_cycles, n_lambda))\n",
    "\n",
    "    (\n",
    "        results[\"fraction_fe_matrix\"][fraction],\n",
    "        results[\"fraction_sem_matrix\"][fraction],\n",
    "    ) = integrate_bootstraps(\n",
    "        lambda_values[::-1], dU_samples[:,::-1], x_intp=dl_intp[::-1], matrix=\"diagonal\"\n",
    "    )\n",
    "    results[\"fraction_fe\"][fraction] = results[\"fraction_fe_matrix\"][fraction][0, -1]\n",
    "    results[\"fraction_sem\"][fraction] = results[\"fraction_sem_matrix\"][fraction][0, -1]\n",
    "\n",
    "    results[\"fraction_n_frames\"][fraction] = int(fraction * n_frames) * n_lambda\n",
    "\n",
    "max_fraction = np.max(fractions)\n",
    "results[\"fe_matrix\"] = results[\"fraction_fe_matrix\"][max_fraction]\n",
    "results[\"sem_matrix\"] = results[\"fraction_sem_matrix\"][max_fraction]\n",
    "\n",
    "results[\"fe\"] = -1*results[\"fe_matrix\"][0, -1]\n",
    "results[\"sem\"] = results[\"sem_matrix\"][0, -1]\n",
    "\n",
    "results[\"n_frames\"] = n_frames * n_lambda"
   ]
  },
  {
   "cell_type": "code",
   "execution_count": null,
   "id": "bdb80959",
   "metadata": {},
   "outputs": [],
   "source": [
    "print(f\"Delta G(elec) = {results['fe']:.2f} +- {results['sem']:.2f} kcal/mol\")"
   ]
  },
  {
   "cell_type": "code",
   "execution_count": 8,
   "id": "a99a5e96",
   "metadata": {
    "execution": {
     "iopub.execute_input": "2022-10-13T21:02:20.342144Z",
     "iopub.status.busy": "2022-10-13T21:02:20.341970Z",
     "iopub.status.idle": "2022-10-13T21:02:20.347838Z",
     "shell.execute_reply": "2022-10-13T21:02:20.347379Z"
    }
   },
   "outputs": [],
   "source": [
    "with open(f\"{base_folder}/ti_results.json\", \"w\") as f:\n",
    "    dumped = json.dumps(results, cls=PaprikaEncoder)\n",
    "    f.write(dumped)"
   ]
  },
  {
   "cell_type": "code",
   "execution_count": 9,
   "id": "46632515",
   "metadata": {
    "execution": {
     "iopub.execute_input": "2022-10-13T21:02:20.349650Z",
     "iopub.status.busy": "2022-10-13T21:02:20.349481Z",
     "iopub.status.idle": "2022-10-13T21:02:20.354359Z",
     "shell.execute_reply": "2022-10-13T21:02:20.353965Z"
    }
   },
   "outputs": [],
   "source": [
    "with open(f\"{base_folder}/ti-fe.csv\", \"w\") as f:\n",
    "    f.writelines(\"#lambda, FE, Error\\n\")\n",
    "    for i in range(n_lambda):\n",
    "        f.writelines(\n",
    "            \"%.5f,%.4f,%.4f\\n\"\n",
    "            % (\n",
    "                lambda_values[i],\n",
    "                -1*results[\"fe_matrix\"][0, i],\n",
    "                results[\"sem_matrix\"][0, i],\n",
    "            )\n",
    "        )"
   ]
  },
  {
   "cell_type": "code",
   "execution_count": 10,
   "id": "a5fcaf1e",
   "metadata": {
    "execution": {
     "iopub.execute_input": "2022-10-13T21:02:20.356144Z",
     "iopub.status.busy": "2022-10-13T21:02:20.356004Z",
     "iopub.status.idle": "2022-10-13T21:02:20.656105Z",
     "shell.execute_reply": "2022-10-13T21:02:20.655670Z"
    }
   },
   "outputs": [
    {
     "data": {
      "image/png": "[encoded data removed]",
      "text/plain": [
       "<Figure size 1800x675 with 2 Axes>"
      ]
     },
     "metadata": {
      "needs_background": "light"
     },
     "output_type": "display_data"
    }
   ],
   "source": [
    "plt.figure(dpi=150, figsize=(12, 4.5))\n",
    "plt.subplot(1, 2, 1)\n",
    "plt.errorbar(\n",
    "    lambda_values,\n",
    "    -1*results[\"fe_matrix\"][0, :],\n",
    "    yerr=results[\"sem_matrix\"][0, :],\n",
    "    fmt=\"-o\",\n",
    "    capsize=6,\n",
    ")\n",
    "plt.xlabel(r\"$\\lambda$\")\n",
    "plt.ylabel(r\"$\\Delta G_{elec}$ (kcal/mol)\")\n",
    "plt.tight_layout()\n",
    "plt.gca().invert_xaxis()\n",
    "\n",
    "plt.subplot(1, 2, 2)\n",
    "fe_fraction = [-1*results[\"fraction_fe\"][i] for i in results[\"fraction_fe\"]]\n",
    "sem_fraction = [results[\"fraction_sem\"][i] for i in results[\"fraction_sem\"]]\n",
    "plt.errorbar(fractions, fe_fraction, yerr=sem_fraction, fmt=\"-o\", capsize=6)\n",
    "plt.xlabel(r\"fraction of data\")\n",
    "plt.ylabel(r\"$\\Delta G_{elec}$ (kcal/mol)\")\n",
    "plt.tight_layout()"
   ]
  },
  {
   "cell_type": "code",
   "execution_count": null,
   "id": "363e5e53",
   "metadata": {},
   "outputs": [],
   "source": []
  }
 ],
 "metadata": {
  "kernelspec": {
   "display_name": "Python 3 (ipykernel)",
   "language": "python",
   "name": "python3"
  },
  "language_info": {
   "codemirror_mode": {
    "name": "ipython",
    "version": 3
   },
   "file_extension": ".py",
   "mimetype": "text/x-python",
   "name": "python",
   "nbconvert_exporter": "python",
   "pygments_lexer": "ipython3",
   "version": "3.10.6"
  },
  "widgets": {
   "application/vnd.jupyter.widget-state+json": {
    "state": {
     "2beb7662e89d43069fbf40cc858904c2": {
      "model_module": "@jupyter-widgets/controls",
      "model_module_version": "1.5.0",
      "model_name": "HBoxModel",
      "state": {
       "_dom_classes": [],
       "_model_module": "@jupyter-widgets/controls",
       "_model_module_version": "1.5.0",
       "_model_name": "HBoxModel",
       "_view_count": null,
       "_view_module": "@jupyter-widgets/controls",
       "_view_module_version": "1.5.0",
       "_view_name": "HBoxView",
       "box_style": "",
       "children": [
        "IPY_MODEL_c4bfac97d41b4e6aa541feb6bf08847e",
        "IPY_MODEL_834150d0a14044f795948e490b3ae7cf",
        "IPY_MODEL_d7b653f5357c4cdba3acfb33152d854b"
       ],
       "layout": "IPY_MODEL_937f3e36b1a146789d759b1c11d67e6a"
      }
     },
     "2f33746197164257abbcbea9d58bd3bc": {
      "model_module": "@jupyter-widgets/controls",
      "model_module_version": "1.5.0",
      "model_name": "ProgressStyleModel",
      "state": {
       "_model_module": "@jupyter-widgets/controls",
       "_model_module_version": "1.5.0",
       "_model_name": "ProgressStyleModel",
       "_view_count": null,
       "_view_module": "@jupyter-widgets/base",
       "_view_module_version": "1.2.0",
       "_view_name": "StyleView",
       "bar_color": null,
       "description_width": ""
      }
     },
     "450ca43473c54bdf843811b6b849ca12": {
      "model_module": "@jupyter-widgets/base",
      "model_module_version": "1.2.0",
      "model_name": "LayoutModel",
      "state": {
       "_model_module": "@jupyter-widgets/base",
       "_model_module_version": "1.2.0",
       "_model_name": "LayoutModel",
       "_view_count": null,
       "_view_module": "@jupyter-widgets/base",
       "_view_module_version": "1.2.0",
       "_view_name": "LayoutView",
       "align_content": null,
       "align_items": null,
       "align_self": null,
       "border": null,
       "bottom": null,
       "display": null,
       "flex": null,
       "flex_flow": null,
       "grid_area": null,
       "grid_auto_columns": null,
       "grid_auto_flow": null,
       "grid_auto_rows": null,
       "grid_column": null,
       "grid_gap": null,
       "grid_row": null,
       "grid_template_areas": null,
       "grid_template_columns": null,
       "grid_template_rows": null,
       "height": null,
       "justify_content": null,
       "justify_items": null,
       "left": null,
       "margin": null,
       "max_height": null,
       "max_width": null,
       "min_height": null,
       "min_width": null,
       "object_fit": null,
       "object_position": null,
       "order": null,
       "overflow": null,
       "overflow_x": null,
       "overflow_y": null,
       "padding": null,
       "right": null,
       "top": null,
       "visibility": null,
       "width": null
      }
     },
     "51ecc45ca2e249a0a445b2e333a5ecd4": {
      "model_module": "@jupyter-widgets/controls",
      "model_module_version": "1.5.0",
      "model_name": "ProgressStyleModel",
      "state": {
       "_model_module": "@jupyter-widgets/controls",
       "_model_module_version": "1.5.0",
       "_model_name": "ProgressStyleModel",
       "_view_count": null,
       "_view_module": "@jupyter-widgets/base",
       "_view_module_version": "1.2.0",
       "_view_name": "StyleView",
       "bar_color": null,
       "description_width": ""
      }
     },
     "60fe539c179e452a8e7828b68c9e1922": {
      "model_module": "@jupyter-widgets/controls",
      "model_module_version": "1.5.0",
      "model_name": "HBoxModel",
      "state": {
       "_dom_classes": [],
       "_model_module": "@jupyter-widgets/controls",
       "_model_module_version": "1.5.0",
       "_model_name": "HBoxModel",
       "_view_count": null,
       "_view_module": "@jupyter-widgets/controls",
       "_view_module_version": "1.5.0",
       "_view_name": "HBoxView",
       "box_style": "",
       "children": [
        "IPY_MODEL_f954dcf0c52a4999b96d133cd1835bfd",
        "IPY_MODEL_f977a6e0b77b43eebea924b2395c6d17",
        "IPY_MODEL_b3b4d36d381046ce98fb746f7018bbd2"
       ],
       "layout": "IPY_MODEL_76bd6ae1ef1b4e6f980ff5228ede2f61"
      }
     },
     "76bd6ae1ef1b4e6f980ff5228ede2f61": {
      "model_module": "@jupyter-widgets/base",
      "model_module_version": "1.2.0",
      "model_name": "LayoutModel",
      "state": {
       "_model_module": "@jupyter-widgets/base",
       "_model_module_version": "1.2.0",
       "_model_name": "LayoutModel",
       "_view_count": null,
       "_view_module": "@jupyter-widgets/base",
       "_view_module_version": "1.2.0",
       "_view_name": "LayoutView",
       "align_content": null,
       "align_items": null,
       "align_self": null,
       "border": null,
       "bottom": null,
       "display": null,
       "flex": null,
       "flex_flow": null,
       "grid_area": null,
       "grid_auto_columns": null,
       "grid_auto_flow": null,
       "grid_auto_rows": null,
       "grid_column": null,
       "grid_gap": null,
       "grid_row": null,
       "grid_template_areas": null,
       "grid_template_columns": null,
       "grid_template_rows": null,
       "height": null,
       "justify_content": null,
       "justify_items": null,
       "left": null,
       "margin": null,
       "max_height": null,
       "max_width": null,
       "min_height": null,
       "min_width": null,
       "object_fit": null,
       "object_position": null,
       "order": null,
       "overflow": null,
       "overflow_x": null,
       "overflow_y": null,
       "padding": null,
       "right": null,
       "top": null,
       "visibility": null,
       "width": null
      }
     },
     "79dfd8e65ee2486980570a02e5cbf397": {
      "model_module": "@jupyter-widgets/base",
      "model_module_version": "1.2.0",
      "model_name": "LayoutModel",
      "state": {
       "_model_module": "@jupyter-widgets/base",
       "_model_module_version": "1.2.0",
       "_model_name": "LayoutModel",
       "_view_count": null,
       "_view_module": "@jupyter-widgets/base",
       "_view_module_version": "1.2.0",
       "_view_name": "LayoutView",
       "align_content": null,
       "align_items": null,
       "align_self": null,
       "border": null,
       "bottom": null,
       "display": null,
       "flex": null,
       "flex_flow": null,
       "grid_area": null,
       "grid_auto_columns": null,
       "grid_auto_flow": null,
       "grid_auto_rows": null,
       "grid_column": null,
       "grid_gap": null,
       "grid_row": null,
       "grid_template_areas": null,
       "grid_template_columns": null,
       "grid_template_rows": null,
       "height": null,
       "justify_content": null,
       "justify_items": null,
       "left": null,
       "margin": null,
       "max_height": null,
       "max_width": null,
       "min_height": null,
       "min_width": null,
       "object_fit": null,
       "object_position": null,
       "order": null,
       "overflow": null,
       "overflow_x": null,
       "overflow_y": null,
       "padding": null,
       "right": null,
       "top": null,
       "visibility": null,
       "width": null
      }
     },
     "834150d0a14044f795948e490b3ae7cf": {
      "model_module": "@jupyter-widgets/controls",
      "model_module_version": "1.5.0",
      "model_name": "FloatProgressModel",
      "state": {
       "_dom_classes": [],
       "_model_module": "@jupyter-widgets/controls",
       "_model_module_version": "1.5.0",
       "_model_name": "FloatProgressModel",
       "_view_count": null,
       "_view_module": "@jupyter-widgets/controls",
       "_view_module_version": "1.5.0",
       "_view_name": "ProgressView",
       "bar_style": "success",
       "description": "",
       "description_tooltip": null,
       "layout": "IPY_MODEL_d4517e0cdba243a1a1c66ef2254ac1fb",
       "max": 10,
       "min": 0,
       "orientation": "horizontal",
       "style": "IPY_MODEL_2f33746197164257abbcbea9d58bd3bc",
       "value": 10
      }
     },
     "937f3e36b1a146789d759b1c11d67e6a": {
      "model_module": "@jupyter-widgets/base",
      "model_module_version": "1.2.0",
      "model_name": "LayoutModel",
      "state": {
       "_model_module": "@jupyter-widgets/base",
       "_model_module_version": "1.2.0",
       "_model_name": "LayoutModel",
       "_view_count": null,
       "_view_module": "@jupyter-widgets/base",
       "_view_module_version": "1.2.0",
       "_view_name": "LayoutView",
       "align_content": null,
       "align_items": null,
       "align_self": null,
       "border": null,
       "bottom": null,
       "display": null,
       "flex": null,
       "flex_flow": null,
       "grid_area": null,
       "grid_auto_columns": null,
       "grid_auto_flow": null,
       "grid_auto_rows": null,
       "grid_column": null,
       "grid_gap": null,
       "grid_row": null,
       "grid_template_areas": null,
       "grid_template_columns": null,
       "grid_template_rows": null,
       "height": null,
       "justify_content": null,
       "justify_items": null,
       "left": null,
       "margin": null,
       "max_height": null,
       "max_width": null,
       "min_height": null,
       "min_width": null,
       "object_fit": null,
       "object_position": null,
       "order": null,
       "overflow": null,
       "overflow_x": null,
       "overflow_y": null,
       "padding": null,
       "right": null,
       "top": null,
       "visibility": null,
       "width": null
      }
     },
     "a083089c9fb24d12be5204ca7a4e320b": {
      "model_module": "@jupyter-widgets/base",
      "model_module_version": "1.2.0",
      "model_name": "LayoutModel",
      "state": {
       "_model_module": "@jupyter-widgets/base",
       "_model_module_version": "1.2.0",
       "_model_name": "LayoutModel",
       "_view_count": null,
       "_view_module": "@jupyter-widgets/base",
       "_view_module_version": "1.2.0",
       "_view_name": "LayoutView",
       "align_content": null,
       "align_items": null,
       "align_self": null,
       "border": null,
       "bottom": null,
       "display": null,
       "flex": null,
       "flex_flow": null,
       "grid_area": null,
       "grid_auto_columns": null,
       "grid_auto_flow": null,
       "grid_auto_rows": null,
       "grid_column": null,
       "grid_gap": null,
       "grid_row": null,
       "grid_template_areas": null,
       "grid_template_columns": null,
       "grid_template_rows": null,
       "height": null,
       "justify_content": null,
       "justify_items": null,
       "left": null,
       "margin": null,
       "max_height": null,
       "max_width": null,
       "min_height": null,
       "min_width": null,
       "object_fit": null,
       "object_position": null,
       "order": null,
       "overflow": null,
       "overflow_x": null,
       "overflow_y": null,
       "padding": null,
       "right": null,
       "top": null,
       "visibility": null,
       "width": null
      }
     },
     "b3b4d36d381046ce98fb746f7018bbd2": {
      "model_module": "@jupyter-widgets/controls",
      "model_module_version": "1.5.0",
      "model_name": "HTMLModel",
      "state": {
       "_dom_classes": [],
       "_model_module": "@jupyter-widgets/controls",
       "_model_module_version": "1.5.0",
       "_model_name": "HTMLModel",
       "_view_count": null,
       "_view_module": "@jupyter-widgets/controls",
       "_view_module_version": "1.5.0",
       "_view_name": "HTMLView",
       "description": "",
       "description_tooltip": null,
       "layout": "IPY_MODEL_a083089c9fb24d12be5204ca7a4e320b",
       "placeholder": "​",
       "style": "IPY_MODEL_dc6802f440524504a72bf7ad2f7876ac",
       "value": " 11/11 [00:23&lt;00:00,  2.08s/it]"
      }
     },
     "b4f67f90684d463c9a1cc238045fa5d1": {
      "model_module": "@jupyter-widgets/base",
      "model_module_version": "1.2.0",
      "model_name": "LayoutModel",
      "state": {
       "_model_module": "@jupyter-widgets/base",
       "_model_module_version": "1.2.0",
       "_model_name": "LayoutModel",
       "_view_count": null,
       "_view_module": "@jupyter-widgets/base",
       "_view_module_version": "1.2.0",
       "_view_name": "LayoutView",
       "align_content": null,
       "align_items": null,
       "align_self": null,
       "border": null,
       "bottom": null,
       "display": null,
       "flex": null,
       "flex_flow": null,
       "grid_area": null,
       "grid_auto_columns": null,
       "grid_auto_flow": null,
       "grid_auto_rows": null,
       "grid_column": null,
       "grid_gap": null,
       "grid_row": null,
       "grid_template_areas": null,
       "grid_template_columns": null,
       "grid_template_rows": null,
       "height": null,
       "justify_content": null,
       "justify_items": null,
       "left": null,
       "margin": null,
       "max_height": null,
       "max_width": null,
       "min_height": null,
       "min_width": null,
       "object_fit": null,
       "object_position": null,
       "order": null,
       "overflow": null,
       "overflow_x": null,
       "overflow_y": null,
       "padding": null,
       "right": null,
       "top": null,
       "visibility": null,
       "width": null
      }
     },
     "c4bfac97d41b4e6aa541feb6bf08847e": {
      "model_module": "@jupyter-widgets/controls",
      "model_module_version": "1.5.0",
      "model_name": "HTMLModel",
      "state": {
       "_dom_classes": [],
       "_model_module": "@jupyter-widgets/controls",
       "_model_module_version": "1.5.0",
       "_model_name": "HTMLModel",
       "_view_count": null,
       "_view_module": "@jupyter-widgets/controls",
       "_view_module_version": "1.5.0",
       "_view_name": "HTMLView",
       "description": "",
       "description_tooltip": null,
       "layout": "IPY_MODEL_450ca43473c54bdf843811b6b849ca12",
       "placeholder": "​",
       "style": "IPY_MODEL_c83897f6e1b24768b875f234ab0739c1",
       "value": "100%"
      }
     },
     "c83897f6e1b24768b875f234ab0739c1": {
      "model_module": "@jupyter-widgets/controls",
      "model_module_version": "1.5.0",
      "model_name": "DescriptionStyleModel",
      "state": {
       "_model_module": "@jupyter-widgets/controls",
       "_model_module_version": "1.5.0",
       "_model_name": "DescriptionStyleModel",
       "_view_count": null,
       "_view_module": "@jupyter-widgets/base",
       "_view_module_version": "1.2.0",
       "_view_name": "StyleView",
       "description_width": ""
      }
     },
     "d4517e0cdba243a1a1c66ef2254ac1fb": {
      "model_module": "@jupyter-widgets/base",
      "model_module_version": "1.2.0",
      "model_name": "LayoutModel",
      "state": {
       "_model_module": "@jupyter-widgets/base",
       "_model_module_version": "1.2.0",
       "_model_name": "LayoutModel",
       "_view_count": null,
       "_view_module": "@jupyter-widgets/base",
       "_view_module_version": "1.2.0",
       "_view_name": "LayoutView",
       "align_content": null,
       "align_items": null,
       "align_self": null,
       "border": null,
       "bottom": null,
       "display": null,
       "flex": null,
       "flex_flow": null,
       "grid_area": null,
       "grid_auto_columns": null,
       "grid_auto_flow": null,
       "grid_auto_rows": null,
       "grid_column": null,
       "grid_gap": null,
       "grid_row": null,
       "grid_template_areas": null,
       "grid_template_columns": null,
       "grid_template_rows": null,
       "height": null,
       "justify_content": null,
       "justify_items": null,
       "left": null,
       "margin": null,
       "max_height": null,
       "max_width": null,
       "min_height": null,
       "min_width": null,
       "object_fit": null,
       "object_position": null,
       "order": null,
       "overflow": null,
       "overflow_x": null,
       "overflow_y": null,
       "padding": null,
       "right": null,
       "top": null,
       "visibility": null,
       "width": null
      }
     },
     "d7b653f5357c4cdba3acfb33152d854b": {
      "model_module": "@jupyter-widgets/controls",
      "model_module_version": "1.5.0",
      "model_name": "HTMLModel",
      "state": {
       "_dom_classes": [],
       "_model_module": "@jupyter-widgets/controls",
       "_model_module_version": "1.5.0",
       "_model_name": "HTMLModel",
       "_view_count": null,
       "_view_module": "@jupyter-widgets/controls",
       "_view_module_version": "1.5.0",
       "_view_name": "HTMLView",
       "description": "",
       "description_tooltip": null,
       "layout": "IPY_MODEL_79dfd8e65ee2486980570a02e5cbf397",
       "placeholder": "​",
       "style": "IPY_MODEL_f0264ca73e204b36888ad8b537455c5b",
       "value": " 10/10 [00:04&lt;00:00,  2.05it/s]"
      }
     },
     "d849d74ba19f4db093d5feaf9bddc32b": {
      "model_module": "@jupyter-widgets/base",
      "model_module_version": "1.2.0",
      "model_name": "LayoutModel",
      "state": {
       "_model_module": "@jupyter-widgets/base",
       "_model_module_version": "1.2.0",
       "_model_name": "LayoutModel",
       "_view_count": null,
       "_view_module": "@jupyter-widgets/base",
       "_view_module_version": "1.2.0",
       "_view_name": "LayoutView",
       "align_content": null,
       "align_items": null,
       "align_self": null,
       "border": null,
       "bottom": null,
       "display": null,
       "flex": null,
       "flex_flow": null,
       "grid_area": null,
       "grid_auto_columns": null,
       "grid_auto_flow": null,
       "grid_auto_rows": null,
       "grid_column": null,
       "grid_gap": null,
       "grid_row": null,
       "grid_template_areas": null,
       "grid_template_columns": null,
       "grid_template_rows": null,
       "height": null,
       "justify_content": null,
       "justify_items": null,
       "left": null,
       "margin": null,
       "max_height": null,
       "max_width": null,
       "min_height": null,
       "min_width": null,
       "object_fit": null,
       "object_position": null,
       "order": null,
       "overflow": null,
       "overflow_x": null,
       "overflow_y": null,
       "padding": null,
       "right": null,
       "top": null,
       "visibility": null,
       "width": null
      }
     },
     "dc6802f440524504a72bf7ad2f7876ac": {
      "model_module": "@jupyter-widgets/controls",
      "model_module_version": "1.5.0",
      "model_name": "DescriptionStyleModel",
      "state": {
       "_model_module": "@jupyter-widgets/controls",
       "_model_module_version": "1.5.0",
       "_model_name": "DescriptionStyleModel",
       "_view_count": null,
       "_view_module": "@jupyter-widgets/base",
       "_view_module_version": "1.2.0",
       "_view_name": "StyleView",
       "description_width": ""
      }
     },
     "f0264ca73e204b36888ad8b537455c5b": {
      "model_module": "@jupyter-widgets/controls",
      "model_module_version": "1.5.0",
      "model_name": "DescriptionStyleModel",
      "state": {
       "_model_module": "@jupyter-widgets/controls",
       "_model_module_version": "1.5.0",
       "_model_name": "DescriptionStyleModel",
       "_view_count": null,
       "_view_module": "@jupyter-widgets/base",
       "_view_module_version": "1.2.0",
       "_view_name": "StyleView",
       "description_width": ""
      }
     },
     "f034e9ba8ce74e9e838018199b3d2181": {
      "model_module": "@jupyter-widgets/controls",
      "model_module_version": "1.5.0",
      "model_name": "DescriptionStyleModel",
      "state": {
       "_model_module": "@jupyter-widgets/controls",
       "_model_module_version": "1.5.0",
       "_model_name": "DescriptionStyleModel",
       "_view_count": null,
       "_view_module": "@jupyter-widgets/base",
       "_view_module_version": "1.2.0",
       "_view_name": "StyleView",
       "description_width": ""
      }
     },
     "f954dcf0c52a4999b96d133cd1835bfd": {
      "model_module": "@jupyter-widgets/controls",
      "model_module_version": "1.5.0",
      "model_name": "HTMLModel",
      "state": {
       "_dom_classes": [],
       "_model_module": "@jupyter-widgets/controls",
       "_model_module_version": "1.5.0",
       "_model_name": "HTMLModel",
       "_view_count": null,
       "_view_module": "@jupyter-widgets/controls",
       "_view_module_version": "1.5.0",
       "_view_name": "HTMLView",
       "description": "",
       "description_tooltip": null,
       "layout": "IPY_MODEL_b4f67f90684d463c9a1cc238045fa5d1",
       "placeholder": "​",
       "style": "IPY_MODEL_f034e9ba8ce74e9e838018199b3d2181",
       "value": "100%"
      }
     },
     "f977a6e0b77b43eebea924b2395c6d17": {
      "model_module": "@jupyter-widgets/controls",
      "model_module_version": "1.5.0",
      "model_name": "FloatProgressModel",
      "state": {
       "_dom_classes": [],
       "_model_module": "@jupyter-widgets/controls",
       "_model_module_version": "1.5.0",
       "_model_name": "FloatProgressModel",
       "_view_count": null,
       "_view_module": "@jupyter-widgets/controls",
       "_view_module_version": "1.5.0",
       "_view_name": "ProgressView",
       "bar_style": "success",
       "description": "",
       "description_tooltip": null,
       "layout": "IPY_MODEL_d849d74ba19f4db093d5feaf9bddc32b",
       "max": 11,
       "min": 0,
       "orientation": "horizontal",
       "style": "IPY_MODEL_51ecc45ca2e249a0a445b2e333a5ecd4",
       "value": 11
      }
     }
    },
    "version_major": 2,
    "version_minor": 0
   }
  }
 },
 "nbformat": 4,
 "nbformat_minor": 5
}
