{
 "cells": [
  {
   "cell_type": "code",
   "execution_count": null,
   "id": "42b8aaa8",
   "metadata": {
    "execution": {
     "iopub.execute_input": "2022-10-10T18:54:12.838512Z",
     "iopub.status.busy": "2022-10-10T18:54:12.838311Z",
     "iopub.status.idle": "2022-10-10T18:54:14.150866Z",
     "shell.execute_reply": "2022-10-10T18:54:14.150317Z"
    }
   },
   "outputs": [],
   "source": [
    "import json\n",
    "import numpy as np\n",
    "import parmed as pmd\n",
    "import matplotlib.pyplot as plt\n",
    "\n",
    "from paprika.analysis import fe_calc\n",
    "from paprika.io import load_restraints, PaprikaEncoder\n",
    "from paprika.restraints.utils import extract_guest_restraints"
   ]
  },
  {
   "cell_type": "markdown",
   "id": "3a7b53a2",
   "metadata": {},
   "source": [
    "## Calculate attachment free-energy"
   ]
  },
  {
   "cell_type": "code",
   "execution_count": null,
   "id": "120a9b3a",
   "metadata": {
    "execution": {
     "iopub.execute_input": "2022-10-10T18:54:14.153953Z",
     "iopub.status.busy": "2022-10-10T18:54:14.153612Z",
     "iopub.status.idle": "2022-10-10T18:54:14.162146Z",
     "shell.execute_reply": "2022-10-10T18:54:14.161751Z"
    }
   },
   "outputs": [],
   "source": [
    "method = \"ti-block\"\n",
    "restraints = load_restraints(filepath=\"../boresch/boresch_restraints.json\")"
   ]
  },
  {
   "cell_type": "code",
   "execution_count": null,
   "id": "20d2c1bf",
   "metadata": {
    "execution": {
     "iopub.execute_input": "2022-10-10T18:54:14.165063Z",
     "iopub.status.busy": "2022-10-10T18:54:14.164885Z",
     "iopub.status.idle": "2022-10-10T18:56:27.545070Z",
     "shell.execute_reply": "2022-10-10T18:56:27.544127Z"
    }
   },
   "outputs": [],
   "source": [
    "free_energy = fe_calc()\n",
    "free_energy.topology = \"system.pdb\"\n",
    "free_energy.trajectory = \"production.dcd\"\n",
    "free_energy.path = \"../attach\"\n",
    "free_energy.restraint_list = restraints\n",
    "free_energy.collect_data()\n",
    "free_energy.fractions = [0.1, 0.2, 0.3, 0.4, 0.5, 0.6, 0.7, 0.8, 0.9, 1.0]\n",
    "free_energy.methods = [method]\n",
    "free_energy.ti_matrix = \"diagonal\"\n",
    "free_energy.bootcycles = 1000\n",
    "free_energy.compute_free_energy()\n",
    "free_energy.compute_ref_state_work(restraints, state=\"initial\")"
   ]
  },
  {
   "cell_type": "code",
   "execution_count": null,
   "id": "28d427e7",
   "metadata": {
    "execution": {
     "iopub.execute_input": "2022-10-10T18:56:27.548544Z",
     "iopub.status.busy": "2022-10-10T18:56:27.548177Z",
     "iopub.status.idle": "2022-10-10T18:56:27.556414Z",
     "shell.execute_reply": "2022-10-10T18:56:27.555881Z"
    }
   },
   "outputs": [],
   "source": [
    "results = free_energy.results\n",
    "with open(\"results_attach.json\", \"w\") as f:\n",
    "    dumped = json.dumps(results, cls=PaprikaEncoder)\n",
    "    f.write(dumped)"
   ]
  },
  {
   "cell_type": "markdown",
   "id": "94bab90f",
   "metadata": {},
   "source": [
    "## Print free-energy results"
   ]
  },
  {
   "cell_type": "code",
   "execution_count": null,
   "id": "00c2bd7d",
   "metadata": {
    "execution": {
     "iopub.execute_input": "2022-10-10T18:56:27.578056Z",
     "iopub.status.busy": "2022-10-10T18:56:27.577651Z",
     "iopub.status.idle": "2022-10-10T18:56:27.582307Z",
     "shell.execute_reply": "2022-10-10T18:56:27.581757Z"
    }
   },
   "outputs": [],
   "source": [
    "def print_binding(results, method=\"ti-block\"):\n",
    "    fe_a   = -1*results[\"attach\"][method][\"fe\"].magnitude\n",
    "    sem_a  = results[\"attach\"][method][\"sem\"].magnitude\n",
    "    fe_ref = -1*results[\"ref_state_work\"].magnitude\n",
    "\n",
    "    print(f\"Analysis - {method}\")\n",
    "    print(\"-\" * 25)\n",
    "    print(f\"Attach free-energy    = {fe_a:6.2f} +/- {sem_a:0.2f} kcal/mol\")\n",
    "    print(f\"Reference free-energy = {fe_ref:6.2f} kcal/mol\")\n",
    "    print(\"\")\n",
    "\n",
    "\n",
    "print_binding(results, method=method)"
   ]
  },
  {
   "cell_type": "code",
   "execution_count": null,
   "id": "fa074d39",
   "metadata": {
    "execution": {
     "iopub.execute_input": "2022-10-10T18:56:27.584721Z",
     "iopub.status.busy": "2022-10-10T18:56:27.584306Z",
     "iopub.status.idle": "2022-10-10T18:56:27.592658Z",
     "shell.execute_reply": "2022-10-10T18:56:27.591829Z"
    }
   },
   "outputs": [],
   "source": [
    "def get_fe_convergence(results, method=\"ti-block\"):\n",
    "    convergence = {}\n",
    "\n",
    "    # Free energy\n",
    "    attach  = results[\"attach\"][method][\"fraction_fe\"]\n",
    "    convergence[\"fe_a\"] = -1 * np.array([attach[i].magnitude for i in attach])\n",
    "    convergence[\"fractions\"] = np.array([i for i in attach])\n",
    "\n",
    "    # Error\n",
    "    attach  = results[\"attach\"][method][\"fraction_sem\"]\n",
    "    convergence[\"sem_a\"] = np.array([attach[i].magnitude for i in attach])\n",
    "\n",
    "    return convergence\n",
    "\n",
    "\n",
    "convergence = get_fe_convergence(results, method=method)"
   ]
  },
  {
   "cell_type": "markdown",
   "id": "025370d0",
   "metadata": {},
   "source": [
    "## Plot free-energy profile and convergence"
   ]
  },
  {
   "cell_type": "code",
   "execution_count": null,
   "id": "32a144ba",
   "metadata": {
    "execution": {
     "iopub.execute_input": "2022-10-10T18:56:27.595535Z",
     "iopub.status.busy": "2022-10-10T18:56:27.595111Z",
     "iopub.status.idle": "2022-10-10T18:56:28.032267Z",
     "shell.execute_reply": "2022-10-10T18:56:28.031517Z"
    }
   },
   "outputs": [],
   "source": [
    "attach_string = (\n",
    "    \"0.00 0.40 0.80 1.60 2.40 4.00 5.50 8.65 11.80 18.10 24.40 37.00 49.60 74.80 100.00\"\n",
    ")\n",
    "attach_fractions = [float(i) / 100 for i in attach_string.split()]\n",
    "\n",
    "plt.figure(dpi=100, figsize=(12,4))\n",
    "plt.subplot(1,2,1)\n",
    "plt.errorbar(\n",
    "    attach_fractions,\n",
    "    results[\"attach\"][\"ti-block\"][\"fe_matrix\"][0, :],\n",
    "    yerr=results[\"attach\"][\"ti-block\"][\"sem_matrix\"][0, :],\n",
    "    fmt=\"-o\",\n",
    ")\n",
    "plt.xlabel(\"lambda\", fontsize=12)\n",
    "plt.ylabel(r\"$\\Delta G$ (kcal/mol)\", fontsize=12)\n",
    "plt.title(\"FE over lambda\", fontsize=14)\n",
    "\n",
    "plt.subplot(1,2,2)\n",
    "plt.errorbar(\n",
    "    convergence[\"fractions\"], convergence[\"fe_a\"], yerr=convergence[\"sem_a\"], fmt=\"o-\"\n",
    ")\n",
    "plt.xlabel(\"fraction\", fontsize=12)\n",
    "plt.ylabel(r\"$\\Delta G$ (kcal/mol)\", fontsize=12)\n",
    "plt.title(\"FE convergence\", fontsize=14)"
   ]
  },
  {
   "cell_type": "code",
   "execution_count": null,
   "id": "7c22b321",
   "metadata": {},
   "outputs": [],
   "source": []
  }
 ],
 "metadata": {
  "kernelspec": {
   "display_name": "Python 3 (ipykernel)",
   "language": "python",
   "name": "python3"
  },
  "language_info": {
   "codemirror_mode": {
    "name": "ipython",
    "version": 3
   },
   "file_extension": ".py",
   "mimetype": "text/x-python",
   "name": "python",
   "nbconvert_exporter": "python",
   "pygments_lexer": "ipython3",
   "version": "3.10.6"
  }
 },
 "nbformat": 4,
 "nbformat_minor": 5
}
